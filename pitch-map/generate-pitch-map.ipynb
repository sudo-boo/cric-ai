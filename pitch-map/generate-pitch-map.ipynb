{
 "cells": [
  {
   "cell_type": "markdown",
   "metadata": {},
   "source": [
    "## Suppose we got the data of the coordinates of the ball recognised from the trained CNN for each frame of the video. It would look like something like below.\n",
    "\n",
    "Here, i just used a modified sine wave to simulate that data. We can assume the equation would be sine based on parabola equations.\n",
    "\n",
    "Also, the data might contain noise, we need to filter that using various algorithms like quartile method or moving avarage, etc."
   ]
  },
  {
   "cell_type": "code",
   "execution_count": 21,
   "metadata": {},
   "outputs": [],
   "source": [
    "import numpy as np\n",
    "import plotly.graph_objects as go"
   ]
  },
  {
   "cell_type": "code",
   "execution_count": 22,
   "metadata": {},
   "outputs": [],
   "source": [
    "# Define the curve function\n",
    "def curve_function(x):\n",
    "    return np.abs(18 * np.cos(x / 90 - 4.3))\n",
    "\n",
    "# Generate x values\n",
    "x_values = np.linspace(5, -200, 100)\n",
    "\n",
    "# Calculate corresponding z values for the curve\n",
    "z_values_curve = curve_function(x_values)\n",
    "\n",
    "# Sample 100 points from the curve\n",
    "sample_indices = np.linspace(0, len(x_values) - 1, 100, dtype=int)\n",
    "x_sampled = x_values[sample_indices]\n",
    "z_sampled = z_values_curve[sample_indices]\n"
   ]
  },
  {
   "cell_type": "code",
   "execution_count": 23,
   "metadata": {},
   "outputs": [],
   "source": [
    "# UNCOMMENT THIS TO SEE THE 3D TRAJECTORY PLOT\n",
    "\n",
    "# # Add sampled points to the plot\n",
    "# fig = go.Figure(data=go.Scatter3d(\n",
    "#     x=x_sampled,\n",
    "#     y=0.012*x_sampled + 2,\n",
    "#     z=z_sampled,\n",
    "#     mode='markers',\n",
    "#     marker=dict(color='blue', size=5),\n",
    "#     name='Sampled Points'\n",
    "# ))\n",
    "\n",
    "# # Set layout title and adjust camera perspective\n",
    "# fig.update_layout(title='3D Plot of Curve with Sampled Points', width=900, height=900,\n",
    "#                   scene=dict(camera=dict(eye=dict(x=1.5, y=-0.5, z=0.5))))\n",
    "\n",
    "# # Show plot\n",
    "# fig.show()\n",
    "\n",
    "# for x, y, z in zip(x_sampled, 0.05*x_sampled+2, z_sampled):\n",
    "#     print(f'({x:.2f}, {y:.2f}, {z:.2f})')\n"
   ]
  },
  {
   "cell_type": "code",
   "execution_count": 24,
   "metadata": {},
   "outputs": [],
   "source": [
    "# UNCOMMENT THIS TO PLOT THE PITCH\n",
    "\n",
    "# x_final = x_sampled\n",
    "# y_final = 0.05 * x_sampled + 2\n",
    "# z_final = z_sampled + 10\n",
    "\n",
    "# # Plot y_final and z_final\n",
    "# fig = go.Figure()\n",
    "\n",
    "# # Define vertices of the square\n",
    "square_vertices = [(-8, 12), (8, 12), (15, 0), (-15, 0), (-8, 12)]\n",
    "\n",
    "# Scatter plot for sampled points\n",
    "# fig.add_trace(go.Scatter(\n",
    "\n",
    "#     x=[vertex[0] for vertex in square_vertices],\n",
    "#     y=[vertex[1] for vertex in square_vertices],\n",
    "#     mode='lines',\n",
    "#     line=dict(color='red'),\n",
    "#     fill='toself',\n",
    "#     fillcolor='rgba(255, 0, 0, 0.3)',  # Transparent red fill\n",
    "#     name='Square'\n",
    "# ))\n",
    "\n",
    "\n",
    "# # Add square trace\n",
    "# fig.add_trace(go.Scatter(\n",
    "#     x=-y_final,\n",
    "#     y=z_final,\n",
    "#     mode='markers',\n",
    "#     marker=dict(color='blue', size=5),\n",
    "#     name='Sampled Points'\n",
    "\n",
    "# ))\n",
    "\n",
    "# Update layout\n",
    "# fig.update_layout(title='Ball points visualised in 2D',\n",
    "#                   xaxis_title='x',\n",
    "#                   yaxis_title='y',\n",
    "#                   xaxis=dict(scaleanchor=\"y\", scaleratio=1),\n",
    "#                   yaxis=dict(scaleanchor=\"x\", scaleratio=1))\n",
    "\n",
    "# # Show plot\n",
    "# fig.show()\n",
    "\n",
    "# for x, y in zip(-y_final, z_final):\n",
    "#     print(f'({x:.2f}, {y:.2f})')"
   ]
  },
  {
   "cell_type": "markdown",
   "metadata": {},
   "source": [
    "## Now we can detect the inflection point or the point where the y value suddenly changes"
   ]
  },
  {
   "cell_type": "markdown",
   "metadata": {},
   "source": [
    "### Detecting the inflection point"
   ]
  },
  {
   "cell_type": "code",
   "execution_count": 25,
   "metadata": {},
   "outputs": [
    {
     "data": {
      "application/vnd.plotly.v1+json": {
       "config": {
        "plotlyServerURL": "https://plot.ly"
       },
       "data": [
        {
         "fill": "toself",
         "fillcolor": "rgba(100, 100, 100, 0.3)",
         "line": {
          "color": "black"
         },
         "mode": "lines",
         "name": "Pitch",
         "type": "scatter",
         "x": [
          -8,
          8,
          15,
          -15,
          -8
         ],
         "y": [
          12,
          12,
          0,
          0,
          12
         ]
        },
        {
         "fill": "toself",
         "fillcolor": "rgba(255, 255, 0, 0.2)",
         "mode": "lines",
         "name": "Full length",
         "type": "scatter",
         "x": [
          -8,
          8,
          9,
          -9,
          -8
         ],
         "y": [
          12,
          12,
          10.5,
          10.5,
          12
         ]
        },
        {
         "fill": "toself",
         "fillcolor": "rgba(255, 0, 0, 0.2)",
         "mode": "lines",
         "name": "Good length",
         "type": "scatter",
         "x": [
          -9.75,
          9.75,
          9,
          -9,
          -9.75
         ],
         "y": [
          9,
          9,
          10.5,
          10.5,
          9
         ]
        },
        {
         "fill": "toself",
         "fillcolor": "rgba(0, 0, 255, 0.2)",
         "mode": "lines",
         "name": "Short length",
         "type": "scatter",
         "x": [
          -11.5,
          11.5,
          9.75,
          -9.75,
          -11.5
         ],
         "y": [
          6,
          6,
          9,
          9,
          6
         ]
        },
        {
         "marker": {
          "color": "blue",
          "size": 5
         },
         "mode": "markers",
         "name": "Sampled Points",
         "type": "scatter",
         "x": [
          -2.25,
          -2.1464646464646466,
          -2.042929292929293,
          -1.9393939393939394,
          -1.8358585858585859,
          -1.7323232323232323,
          -1.628787878787879,
          -1.5252525252525253,
          -1.4217171717171717,
          -1.3181818181818183,
          -1.2146464646464645,
          -1.1111111111111112,
          -1.0075757575757578,
          -0.9040404040404042,
          -0.8005050505050506,
          -0.696969696969697,
          -0.5934343434343434,
          -0.48989898989898983,
          -0.3863636363636367,
          -0.2828282828282829,
          -0.17929292929292928,
          -0.07575757575757613,
          0.02777777777777768,
          0.13131313131313105,
          0.23484848484848442,
          0.33838383838383823,
          0.44191919191919204,
          0.5454545454545454,
          0.6489898989898988,
          0.7525252525252526,
          0.856060606060606,
          0.9595959595959593,
          1.0631313131313131,
          1.1666666666666665,
          1.2702020202020203,
          1.3737373737373737,
          1.4772727272727266,
          1.5808080808080804,
          1.6843434343434343,
          1.7878787878787876,
          1.8914141414141414,
          1.9949494949494948,
          2.0984848484848477,
          2.2020202020202015,
          2.3055555555555554,
          2.409090909090909,
          2.512626262626262,
          2.616161616161616,
          2.719696969696969,
          2.8232323232323226,
          2.9267676767676765,
          3.0303030303030303,
          3.133838383838384,
          3.237373737373737,
          3.340909090909091,
          3.4444444444444438,
          3.5479797979797976,
          3.6515151515151514,
          3.755050505050505,
          3.858585858585858,
          3.962121212121212,
          4.065656565656565,
          4.169191919191919,
          4.2727272727272725,
          4.376262626262626,
          4.479797979797979,
          4.583333333333333,
          4.686868686868687,
          4.790404040404041,
          4.8939393939393945,
          4.997474747474747,
          5.1010101010101,
          5.204545454545453,
          5.308080808080807,
          5.411616161616161,
          5.515151515151515,
          5.6186868686868685,
          5.722222222222221,
          5.825757575757575,
          5.929292929292929,
          6.032828282828282,
          6.136363636363637,
          6.23989898989899,
          6.343434343434344,
          6.4469696969696955,
          6.55050505050505,
          6.654040404040403,
          6.757575757575756,
          6.861111111111111,
          6.964646464646464,
          7.068181818181818,
          7.171717171717171,
          7.275252525252524,
          7.378787878787879,
          7.482323232323232,
          7.5858585858585865,
          7.689393939393938,
          7.792929292929292,
          7.896464646464645,
          8
         ],
         "y": [
          18.11894938101343,
          17.747213063837734,
          17.371375851604064,
          16.991636689268965,
          16.608196587239846,
          16.221258514972455,
          15.831027293531532,
          15.43770948717112,
          15.041513293992265,
          14.642648435735836,
          14.241326046768798,
          13.837758562322769,
          13.432159606043935,
          13.024743876913938,
          12.615727035601502,
          12.205325590305039,
          11.793756782146607,
          11.381238470177902,
          10.967989016059185,
          10.554227168472064,
          10.14017194732758,
          10.273957472169435,
          10.687941875538142,
          11.101562125060255,
          11.514599275778002,
          11.92683469139002,
          12.338050159983887,
          12.748028009544,
          13.156551223173665,
          13.56340355397041,
          13.968369639493712,
          14.371235115764524,
          14.771786730736363,
          15.169812457177638,
          15.565101604905829,
          15.957444932313782,
          16.34663475712929,
          16.73246506634922,
          17.114731625290048,
          17.493232085697052,
          17.86776609285497,
          18.238135391643365,
          18.60414393148063,
          18.965597970101015,
          19.322306176109812,
          19.674079730262328,
          20.020732425413122,
          20.36208076508253,
          20.69794406058836,
          21.028144526691285,
          21.35250737570335,
          21.670860910009733,
          21.983036612954862,
          22.288869238044693,
          22.588196896417973,
          22.88086114254018,
          23.16670705807479,
          23.44558333388744,
          23.71734235013964,
          23.98184025442957,
          24.23893703793862,
          24.48849660954341,
          24.73038686785401,
          24.964479771140216,
          25.190651405108948,
          25.408782048496782,
          25.61875623644299,
          25.82046282160949,
          26.01379503301534,
          26.19865053255474,
          26.374931469168438,
          26.54254453064005,
          26.701400992989775,
          26.851416767439357,
          26.992512444923495,
          27.1246133381241,
          27.247649521005105,
          27.361555865827,
          27.466272077621433,
          27.561742726107614,
          27.647917275033684,
          27.724750108927495,
          27.792200557242587,
          27.85023291588668,
          27.898816466121197,
          27.937925490821886,
          27.96753928809184,
          27.987642182219822,
          27.998223531978017,
          27.99927773625482,
          27.990804237019752,
          27.972807519618804,
          27.94529711040021,
          27.908287571671767,
          27.861798493992456,
          27.805854485802413,
          27.74048516039674,
          27.665725120250077,
          27.581613938700162,
          27.488196139000188
         ]
        },
        {
         "marker": {
          "color": "yellow",
          "size": 10
         },
         "mode": "markers",
         "name": "Inflection Point",
         "type": "scatter",
         "x": [
          -0.17929292929292928
         ],
         "y": [
          10.14017194732758
         ]
        }
       ],
       "layout": {
        "template": {
         "data": {
          "bar": [
           {
            "error_x": {
             "color": "#2a3f5f"
            },
            "error_y": {
             "color": "#2a3f5f"
            },
            "marker": {
             "line": {
              "color": "#E5ECF6",
              "width": 0.5
             },
             "pattern": {
              "fillmode": "overlay",
              "size": 10,
              "solidity": 0.2
             }
            },
            "type": "bar"
           }
          ],
          "barpolar": [
           {
            "marker": {
             "line": {
              "color": "#E5ECF6",
              "width": 0.5
             },
             "pattern": {
              "fillmode": "overlay",
              "size": 10,
              "solidity": 0.2
             }
            },
            "type": "barpolar"
           }
          ],
          "carpet": [
           {
            "aaxis": {
             "endlinecolor": "#2a3f5f",
             "gridcolor": "white",
             "linecolor": "white",
             "minorgridcolor": "white",
             "startlinecolor": "#2a3f5f"
            },
            "baxis": {
             "endlinecolor": "#2a3f5f",
             "gridcolor": "white",
             "linecolor": "white",
             "minorgridcolor": "white",
             "startlinecolor": "#2a3f5f"
            },
            "type": "carpet"
           }
          ],
          "choropleth": [
           {
            "colorbar": {
             "outlinewidth": 0,
             "ticks": ""
            },
            "type": "choropleth"
           }
          ],
          "contour": [
           {
            "colorbar": {
             "outlinewidth": 0,
             "ticks": ""
            },
            "colorscale": [
             [
              0,
              "#0d0887"
             ],
             [
              0.1111111111111111,
              "#46039f"
             ],
             [
              0.2222222222222222,
              "#7201a8"
             ],
             [
              0.3333333333333333,
              "#9c179e"
             ],
             [
              0.4444444444444444,
              "#bd3786"
             ],
             [
              0.5555555555555556,
              "#d8576b"
             ],
             [
              0.6666666666666666,
              "#ed7953"
             ],
             [
              0.7777777777777778,
              "#fb9f3a"
             ],
             [
              0.8888888888888888,
              "#fdca26"
             ],
             [
              1,
              "#f0f921"
             ]
            ],
            "type": "contour"
           }
          ],
          "contourcarpet": [
           {
            "colorbar": {
             "outlinewidth": 0,
             "ticks": ""
            },
            "type": "contourcarpet"
           }
          ],
          "heatmap": [
           {
            "colorbar": {
             "outlinewidth": 0,
             "ticks": ""
            },
            "colorscale": [
             [
              0,
              "#0d0887"
             ],
             [
              0.1111111111111111,
              "#46039f"
             ],
             [
              0.2222222222222222,
              "#7201a8"
             ],
             [
              0.3333333333333333,
              "#9c179e"
             ],
             [
              0.4444444444444444,
              "#bd3786"
             ],
             [
              0.5555555555555556,
              "#d8576b"
             ],
             [
              0.6666666666666666,
              "#ed7953"
             ],
             [
              0.7777777777777778,
              "#fb9f3a"
             ],
             [
              0.8888888888888888,
              "#fdca26"
             ],
             [
              1,
              "#f0f921"
             ]
            ],
            "type": "heatmap"
           }
          ],
          "heatmapgl": [
           {
            "colorbar": {
             "outlinewidth": 0,
             "ticks": ""
            },
            "colorscale": [
             [
              0,
              "#0d0887"
             ],
             [
              0.1111111111111111,
              "#46039f"
             ],
             [
              0.2222222222222222,
              "#7201a8"
             ],
             [
              0.3333333333333333,
              "#9c179e"
             ],
             [
              0.4444444444444444,
              "#bd3786"
             ],
             [
              0.5555555555555556,
              "#d8576b"
             ],
             [
              0.6666666666666666,
              "#ed7953"
             ],
             [
              0.7777777777777778,
              "#fb9f3a"
             ],
             [
              0.8888888888888888,
              "#fdca26"
             ],
             [
              1,
              "#f0f921"
             ]
            ],
            "type": "heatmapgl"
           }
          ],
          "histogram": [
           {
            "marker": {
             "pattern": {
              "fillmode": "overlay",
              "size": 10,
              "solidity": 0.2
             }
            },
            "type": "histogram"
           }
          ],
          "histogram2d": [
           {
            "colorbar": {
             "outlinewidth": 0,
             "ticks": ""
            },
            "colorscale": [
             [
              0,
              "#0d0887"
             ],
             [
              0.1111111111111111,
              "#46039f"
             ],
             [
              0.2222222222222222,
              "#7201a8"
             ],
             [
              0.3333333333333333,
              "#9c179e"
             ],
             [
              0.4444444444444444,
              "#bd3786"
             ],
             [
              0.5555555555555556,
              "#d8576b"
             ],
             [
              0.6666666666666666,
              "#ed7953"
             ],
             [
              0.7777777777777778,
              "#fb9f3a"
             ],
             [
              0.8888888888888888,
              "#fdca26"
             ],
             [
              1,
              "#f0f921"
             ]
            ],
            "type": "histogram2d"
           }
          ],
          "histogram2dcontour": [
           {
            "colorbar": {
             "outlinewidth": 0,
             "ticks": ""
            },
            "colorscale": [
             [
              0,
              "#0d0887"
             ],
             [
              0.1111111111111111,
              "#46039f"
             ],
             [
              0.2222222222222222,
              "#7201a8"
             ],
             [
              0.3333333333333333,
              "#9c179e"
             ],
             [
              0.4444444444444444,
              "#bd3786"
             ],
             [
              0.5555555555555556,
              "#d8576b"
             ],
             [
              0.6666666666666666,
              "#ed7953"
             ],
             [
              0.7777777777777778,
              "#fb9f3a"
             ],
             [
              0.8888888888888888,
              "#fdca26"
             ],
             [
              1,
              "#f0f921"
             ]
            ],
            "type": "histogram2dcontour"
           }
          ],
          "mesh3d": [
           {
            "colorbar": {
             "outlinewidth": 0,
             "ticks": ""
            },
            "type": "mesh3d"
           }
          ],
          "parcoords": [
           {
            "line": {
             "colorbar": {
              "outlinewidth": 0,
              "ticks": ""
             }
            },
            "type": "parcoords"
           }
          ],
          "pie": [
           {
            "automargin": true,
            "type": "pie"
           }
          ],
          "scatter": [
           {
            "fillpattern": {
             "fillmode": "overlay",
             "size": 10,
             "solidity": 0.2
            },
            "type": "scatter"
           }
          ],
          "scatter3d": [
           {
            "line": {
             "colorbar": {
              "outlinewidth": 0,
              "ticks": ""
             }
            },
            "marker": {
             "colorbar": {
              "outlinewidth": 0,
              "ticks": ""
             }
            },
            "type": "scatter3d"
           }
          ],
          "scattercarpet": [
           {
            "marker": {
             "colorbar": {
              "outlinewidth": 0,
              "ticks": ""
             }
            },
            "type": "scattercarpet"
           }
          ],
          "scattergeo": [
           {
            "marker": {
             "colorbar": {
              "outlinewidth": 0,
              "ticks": ""
             }
            },
            "type": "scattergeo"
           }
          ],
          "scattergl": [
           {
            "marker": {
             "colorbar": {
              "outlinewidth": 0,
              "ticks": ""
             }
            },
            "type": "scattergl"
           }
          ],
          "scattermapbox": [
           {
            "marker": {
             "colorbar": {
              "outlinewidth": 0,
              "ticks": ""
             }
            },
            "type": "scattermapbox"
           }
          ],
          "scatterpolar": [
           {
            "marker": {
             "colorbar": {
              "outlinewidth": 0,
              "ticks": ""
             }
            },
            "type": "scatterpolar"
           }
          ],
          "scatterpolargl": [
           {
            "marker": {
             "colorbar": {
              "outlinewidth": 0,
              "ticks": ""
             }
            },
            "type": "scatterpolargl"
           }
          ],
          "scatterternary": [
           {
            "marker": {
             "colorbar": {
              "outlinewidth": 0,
              "ticks": ""
             }
            },
            "type": "scatterternary"
           }
          ],
          "surface": [
           {
            "colorbar": {
             "outlinewidth": 0,
             "ticks": ""
            },
            "colorscale": [
             [
              0,
              "#0d0887"
             ],
             [
              0.1111111111111111,
              "#46039f"
             ],
             [
              0.2222222222222222,
              "#7201a8"
             ],
             [
              0.3333333333333333,
              "#9c179e"
             ],
             [
              0.4444444444444444,
              "#bd3786"
             ],
             [
              0.5555555555555556,
              "#d8576b"
             ],
             [
              0.6666666666666666,
              "#ed7953"
             ],
             [
              0.7777777777777778,
              "#fb9f3a"
             ],
             [
              0.8888888888888888,
              "#fdca26"
             ],
             [
              1,
              "#f0f921"
             ]
            ],
            "type": "surface"
           }
          ],
          "table": [
           {
            "cells": {
             "fill": {
              "color": "#EBF0F8"
             },
             "line": {
              "color": "white"
             }
            },
            "header": {
             "fill": {
              "color": "#C8D4E3"
             },
             "line": {
              "color": "white"
             }
            },
            "type": "table"
           }
          ]
         },
         "layout": {
          "annotationdefaults": {
           "arrowcolor": "#2a3f5f",
           "arrowhead": 0,
           "arrowwidth": 1
          },
          "autotypenumbers": "strict",
          "coloraxis": {
           "colorbar": {
            "outlinewidth": 0,
            "ticks": ""
           }
          },
          "colorscale": {
           "diverging": [
            [
             0,
             "#8e0152"
            ],
            [
             0.1,
             "#c51b7d"
            ],
            [
             0.2,
             "#de77ae"
            ],
            [
             0.3,
             "#f1b6da"
            ],
            [
             0.4,
             "#fde0ef"
            ],
            [
             0.5,
             "#f7f7f7"
            ],
            [
             0.6,
             "#e6f5d0"
            ],
            [
             0.7,
             "#b8e186"
            ],
            [
             0.8,
             "#7fbc41"
            ],
            [
             0.9,
             "#4d9221"
            ],
            [
             1,
             "#276419"
            ]
           ],
           "sequential": [
            [
             0,
             "#0d0887"
            ],
            [
             0.1111111111111111,
             "#46039f"
            ],
            [
             0.2222222222222222,
             "#7201a8"
            ],
            [
             0.3333333333333333,
             "#9c179e"
            ],
            [
             0.4444444444444444,
             "#bd3786"
            ],
            [
             0.5555555555555556,
             "#d8576b"
            ],
            [
             0.6666666666666666,
             "#ed7953"
            ],
            [
             0.7777777777777778,
             "#fb9f3a"
            ],
            [
             0.8888888888888888,
             "#fdca26"
            ],
            [
             1,
             "#f0f921"
            ]
           ],
           "sequentialminus": [
            [
             0,
             "#0d0887"
            ],
            [
             0.1111111111111111,
             "#46039f"
            ],
            [
             0.2222222222222222,
             "#7201a8"
            ],
            [
             0.3333333333333333,
             "#9c179e"
            ],
            [
             0.4444444444444444,
             "#bd3786"
            ],
            [
             0.5555555555555556,
             "#d8576b"
            ],
            [
             0.6666666666666666,
             "#ed7953"
            ],
            [
             0.7777777777777778,
             "#fb9f3a"
            ],
            [
             0.8888888888888888,
             "#fdca26"
            ],
            [
             1,
             "#f0f921"
            ]
           ]
          },
          "colorway": [
           "#636efa",
           "#EF553B",
           "#00cc96",
           "#ab63fa",
           "#FFA15A",
           "#19d3f3",
           "#FF6692",
           "#B6E880",
           "#FF97FF",
           "#FECB52"
          ],
          "font": {
           "color": "#2a3f5f"
          },
          "geo": {
           "bgcolor": "white",
           "lakecolor": "white",
           "landcolor": "#E5ECF6",
           "showlakes": true,
           "showland": true,
           "subunitcolor": "white"
          },
          "hoverlabel": {
           "align": "left"
          },
          "hovermode": "closest",
          "mapbox": {
           "style": "light"
          },
          "paper_bgcolor": "white",
          "plot_bgcolor": "#E5ECF6",
          "polar": {
           "angularaxis": {
            "gridcolor": "white",
            "linecolor": "white",
            "ticks": ""
           },
           "bgcolor": "#E5ECF6",
           "radialaxis": {
            "gridcolor": "white",
            "linecolor": "white",
            "ticks": ""
           }
          },
          "scene": {
           "xaxis": {
            "backgroundcolor": "#E5ECF6",
            "gridcolor": "white",
            "gridwidth": 2,
            "linecolor": "white",
            "showbackground": true,
            "ticks": "",
            "zerolinecolor": "white"
           },
           "yaxis": {
            "backgroundcolor": "#E5ECF6",
            "gridcolor": "white",
            "gridwidth": 2,
            "linecolor": "white",
            "showbackground": true,
            "ticks": "",
            "zerolinecolor": "white"
           },
           "zaxis": {
            "backgroundcolor": "#E5ECF6",
            "gridcolor": "white",
            "gridwidth": 2,
            "linecolor": "white",
            "showbackground": true,
            "ticks": "",
            "zerolinecolor": "white"
           }
          },
          "shapedefaults": {
           "line": {
            "color": "#2a3f5f"
           }
          },
          "ternary": {
           "aaxis": {
            "gridcolor": "white",
            "linecolor": "white",
            "ticks": ""
           },
           "baxis": {
            "gridcolor": "white",
            "linecolor": "white",
            "ticks": ""
           },
           "bgcolor": "#E5ECF6",
           "caxis": {
            "gridcolor": "white",
            "linecolor": "white",
            "ticks": ""
           }
          },
          "title": {
           "x": 0.05
          },
          "xaxis": {
           "automargin": true,
           "gridcolor": "white",
           "linecolor": "white",
           "ticks": "",
           "title": {
            "standoff": 15
           },
           "zerolinecolor": "white",
           "zerolinewidth": 2
          },
          "yaxis": {
           "automargin": true,
           "gridcolor": "white",
           "linecolor": "white",
           "ticks": "",
           "title": {
            "standoff": 15
           },
           "zerolinecolor": "white",
           "zerolinewidth": 2
          }
         }
        },
        "title": {
         "text": "Ball points visualised in 2D"
        },
        "xaxis": {
         "scaleanchor": "y",
         "scaleratio": 1,
         "title": {
          "text": "x"
         }
        },
        "yaxis": {
         "scaleanchor": "x",
         "scaleratio": 1,
         "title": {
          "text": "y"
         }
        }
       }
      }
     },
     "metadata": {},
     "output_type": "display_data"
    },
    {
     "name": "stdout",
     "output_type": "stream",
     "text": [
      "Inflection Point: (-0.17929292929292928, 10.14017194732758)\n"
     ]
    }
   ],
   "source": [
    "# Given data\n",
    "x_final = x_sampled\n",
    "y_final = 0.05 * x_sampled + 2\n",
    "z_final = z_sampled + 10\n",
    "\n",
    "# Initialize variables\n",
    "inflection_point = None\n",
    "previous_slope = None\n",
    "\n",
    "# Iterate through data points\n",
    "for i in range(1, len(y_final)):\n",
    "    x1, y1 = -y_final[i - 1], z_final[i - 1]\n",
    "    x2, y2 = -y_final[i], z_final[i]\n",
    "    \n",
    "    # Calculate slope\n",
    "    slope = (y2 - y1) / (x2 - x1)\n",
    "    \n",
    "    # Check if slope changes from negative to positive\n",
    "    if previous_slope is not None and previous_slope < 0 and slope > 0:\n",
    "        inflection_point = (x1, y1)\n",
    "        break\n",
    "    \n",
    "    previous_slope = slope\n",
    "\n",
    "# Plot y_final and z_final\n",
    "fig = go.Figure()\n",
    "\n",
    "# Define vertices of the square\n",
    "square_vertices_pitch = [(-8, 12), (8, 12), (15, 0), (-15, 0), (-8, 12)]\n",
    "\n",
    "short_length_pitch = [(-11.5, 6), (11.5, 6), (9.75, 9), (-9.75, 9), (-11.5, 6)]\n",
    "\n",
    "good_length_pitch = [(-9.75, 9), (9.75, 9), (9, 10.5), (-9, 10.5), (-9.75, 9)]\n",
    "\n",
    "full_length_pitch = [(-8, 12), (8, 12), (9, 10.5), (-9, 10.5), (-8, 12)]\n",
    "\n",
    "# Scatter plot for sampled points\n",
    "fig.add_trace(go.Scatter(\n",
    "    x=[vertex[0] for vertex in square_vertices],\n",
    "    y=[vertex[1] for vertex in square_vertices],\n",
    "    mode='lines',\n",
    "    line=dict(color='black'),\n",
    "    fill='toself',\n",
    "    fillcolor='rgba(100, 100, 100, 0.3)',  # Transparent red fill\n",
    "    name='Pitch'\n",
    "))\n",
    "\n",
    "fig.add_trace(go.Scatter(\n",
    "    x=[vertex[0] for vertex in full_length_pitch],\n",
    "    y=[vertex[1] for vertex in full_length_pitch],\n",
    "    mode='lines',\n",
    "    # line=dict(color='yellow'),\n",
    "    fill='toself',\n",
    "    fillcolor='rgba(255, 255, 0, 0.2)',  # Yellow fill color with 20% opacity\n",
    "    name='Full length'\n",
    "))\n",
    "\n",
    "fig.add_trace(go.Scatter(\n",
    "    x=[vertex[0] for vertex in good_length_pitch],\n",
    "    y=[vertex[1] for vertex in good_length_pitch],\n",
    "    mode='lines',\n",
    "    # line=dict(color='red'),\n",
    "    fill='toself',\n",
    "    fillcolor='rgba(255, 0, 0, 0.2)',  # Transparent red fill\n",
    "    name='Good length'\n",
    "))\n",
    "\n",
    "fig.add_trace(go.Scatter(\n",
    "    x=[vertex[0] for vertex in short_length_pitch],\n",
    "    y=[vertex[1] for vertex in short_length_pitch],\n",
    "    mode='lines',\n",
    "    # line=dict(color='blue'),\n",
    "    fill='toself',\n",
    "    fillcolor='rgba(0, 0, 255, 0.2)',  # Transparent red fill\n",
    "    name='Short length'\n",
    "))\n",
    "\n",
    "# Add square trace\n",
    "fig.add_trace(go.Scatter(\n",
    "    x=-y_final,\n",
    "    y=z_final,\n",
    "    mode='markers',\n",
    "    marker=dict(color='blue', size=5),\n",
    "    name='Sampled Points'\n",
    "))\n",
    "\n",
    "# Add inflection point\n",
    "if inflection_point:\n",
    "    fig.add_trace(go.Scatter(\n",
    "        x=[inflection_point[0]],\n",
    "        y=[inflection_point[1]],\n",
    "        mode='markers',\n",
    "        marker=dict(color='yellow', size=10),\n",
    "        name='Inflection Point'\n",
    "    ))\n",
    "\n",
    "# Update layout\n",
    "fig.update_layout(\n",
    "    title='Ball points visualised in 2D',\n",
    "    xaxis_title='x',\n",
    "    yaxis_title='y',\n",
    "    xaxis=dict(scaleanchor=\"y\", scaleratio=1),\n",
    "    yaxis=dict(scaleanchor=\"x\", scaleratio=1)\n",
    ")\n",
    "\n",
    "# Show plot\n",
    "fig.show()\n",
    "\n",
    "if inflection_point:\n",
    "    print(\"Inflection Point:\", inflection_point)\n",
    "else:\n",
    "    print(\"No inflection point found.\")\n"
   ]
  },
  {
   "cell_type": "markdown",
   "metadata": {},
   "source": [
    "### Now we know the coordinates of the inflection point (for us, point where ball bounced). \n",
    "### Since we know the exact dimensions of pitch, we can carry out the length calculations based on the calculations using proportions."
   ]
  }
 ],
 "metadata": {
  "kernelspec": {
   "display_name": "Python 3",
   "language": "python",
   "name": "python3"
  },
  "language_info": {
   "codemirror_mode": {
    "name": "ipython",
    "version": 3
   },
   "file_extension": ".py",
   "mimetype": "text/x-python",
   "name": "python",
   "nbconvert_exporter": "python",
   "pygments_lexer": "ipython3",
   "version": "3.12.1"
  }
 },
 "nbformat": 4,
 "nbformat_minor": 2
}
